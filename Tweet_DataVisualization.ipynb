{
 "cells": [
  {
   "cell_type": "code",
   "execution_count": 1,
   "metadata": {},
   "outputs": [],
   "source": [
    "import pandas as pd\n",
    "import numpy as np\n",
    "from matplotlib import pyplot as plt  # graphic Library\n",
    "import seaborn as sns\n",
    "\n",
    "\n",
    "%matplotlib inline "
   ]
  },
  {
   "cell_type": "code",
   "execution_count": 2,
   "metadata": {},
   "outputs": [],
   "source": [
    "df = pd.read_csv(\"airlinesentiment.csv\")  #read EXCEL.FILE\n",
    "#1st column needs [encoding] to read pound/hashtag(#) symbol"
   ]
  },
  {
   "cell_type": "code",
   "execution_count": 3,
   "metadata": {},
   "outputs": [
    {
     "data": {
      "text/html": [
       "<div>\n",
       "<style scoped>\n",
       "    .dataframe tbody tr th:only-of-type {\n",
       "        vertical-align: middle;\n",
       "    }\n",
       "\n",
       "    .dataframe tbody tr th {\n",
       "        vertical-align: top;\n",
       "    }\n",
       "\n",
       "    .dataframe thead th {\n",
       "        text-align: right;\n",
       "    }\n",
       "</style>\n",
       "<table border=\"1\" class=\"dataframe\">\n",
       "  <thead>\n",
       "    <tr style=\"text-align: right;\">\n",
       "      <th></th>\n",
       "      <th>Unnamed: 0</th>\n",
       "      <th>airline_sentiment</th>\n",
       "      <th>airline_sentiment_confidence</th>\n",
       "      <th>negativereason</th>\n",
       "      <th>airline</th>\n",
       "      <th>text</th>\n",
       "      <th>tweet_created</th>\n",
       "      <th>user_timezone</th>\n",
       "      <th>review_sentiment</th>\n",
       "      <th>sentiment_category</th>\n",
       "    </tr>\n",
       "  </thead>\n",
       "  <tbody>\n",
       "    <tr>\n",
       "      <th>0</th>\n",
       "      <td>0</td>\n",
       "      <td>neutral</td>\n",
       "      <td>1.0000</td>\n",
       "      <td>NaN</td>\n",
       "      <td>Virgin America</td>\n",
       "      <td>@VirginAmerica What @dhepburn said.</td>\n",
       "      <td>2015-02-24 11:35:52 -0800</td>\n",
       "      <td>Eastern Time (US &amp; Canada)</td>\n",
       "      <td>0.0000</td>\n",
       "      <td>neutral</td>\n",
       "    </tr>\n",
       "    <tr>\n",
       "      <th>1</th>\n",
       "      <td>1</td>\n",
       "      <td>positive</td>\n",
       "      <td>0.3486</td>\n",
       "      <td>NaN</td>\n",
       "      <td>Virgin America</td>\n",
       "      <td>@VirginAmerica plus you've added commercials t...</td>\n",
       "      <td>2015-02-24 11:15:59 -0800</td>\n",
       "      <td>Pacific Time (US &amp; Canada)</td>\n",
       "      <td>0.0000</td>\n",
       "      <td>neutral</td>\n",
       "    </tr>\n",
       "    <tr>\n",
       "      <th>2</th>\n",
       "      <td>2</td>\n",
       "      <td>neutral</td>\n",
       "      <td>0.6837</td>\n",
       "      <td>NaN</td>\n",
       "      <td>Virgin America</td>\n",
       "      <td>@VirginAmerica I didn't today... Must mean I n...</td>\n",
       "      <td>2015-02-24 11:15:48 -0800</td>\n",
       "      <td>Central Time (US &amp; Canada)</td>\n",
       "      <td>0.0000</td>\n",
       "      <td>neutral</td>\n",
       "    </tr>\n",
       "    <tr>\n",
       "      <th>3</th>\n",
       "      <td>3</td>\n",
       "      <td>negative</td>\n",
       "      <td>1.0000</td>\n",
       "      <td>Bad Flight</td>\n",
       "      <td>Virgin America</td>\n",
       "      <td>@VirginAmerica it's really aggressive to blast...</td>\n",
       "      <td>2015-02-24 11:15:36 -0800</td>\n",
       "      <td>Pacific Time (US &amp; Canada)</td>\n",
       "      <td>-0.3306</td>\n",
       "      <td>negative</td>\n",
       "    </tr>\n",
       "    <tr>\n",
       "      <th>4</th>\n",
       "      <td>4</td>\n",
       "      <td>negative</td>\n",
       "      <td>1.0000</td>\n",
       "      <td>Can't Tell</td>\n",
       "      <td>Virgin America</td>\n",
       "      <td>@VirginAmerica and it's a really big bad thing...</td>\n",
       "      <td>2015-02-24 11:14:45 -0800</td>\n",
       "      <td>Pacific Time (US &amp; Canada)</td>\n",
       "      <td>-0.5829</td>\n",
       "      <td>negative</td>\n",
       "    </tr>\n",
       "  </tbody>\n",
       "</table>\n",
       "</div>"
      ],
      "text/plain": [
       "   Unnamed: 0 airline_sentiment  airline_sentiment_confidence negativereason  \\\n",
       "0           0           neutral                        1.0000            NaN   \n",
       "1           1          positive                        0.3486            NaN   \n",
       "2           2           neutral                        0.6837            NaN   \n",
       "3           3          negative                        1.0000     Bad Flight   \n",
       "4           4          negative                        1.0000     Can't Tell   \n",
       "\n",
       "          airline                                               text  \\\n",
       "0  Virgin America                @VirginAmerica What @dhepburn said.   \n",
       "1  Virgin America  @VirginAmerica plus you've added commercials t...   \n",
       "2  Virgin America  @VirginAmerica I didn't today... Must mean I n...   \n",
       "3  Virgin America  @VirginAmerica it's really aggressive to blast...   \n",
       "4  Virgin America  @VirginAmerica and it's a really big bad thing...   \n",
       "\n",
       "               tweet_created               user_timezone  review_sentiment  \\\n",
       "0  2015-02-24 11:35:52 -0800  Eastern Time (US & Canada)            0.0000   \n",
       "1  2015-02-24 11:15:59 -0800  Pacific Time (US & Canada)            0.0000   \n",
       "2  2015-02-24 11:15:48 -0800  Central Time (US & Canada)            0.0000   \n",
       "3  2015-02-24 11:15:36 -0800  Pacific Time (US & Canada)           -0.3306   \n",
       "4  2015-02-24 11:14:45 -0800  Pacific Time (US & Canada)           -0.5829   \n",
       "\n",
       "  sentiment_category  \n",
       "0            neutral  \n",
       "1            neutral  \n",
       "2            neutral  \n",
       "3           negative  \n",
       "4           negative  "
      ]
     },
     "execution_count": 3,
     "metadata": {},
     "output_type": "execute_result"
    }
   ],
   "source": [
    "df.head()"
   ]
  },
  {
   "cell_type": "code",
   "execution_count": 4,
   "metadata": {},
   "outputs": [
    {
     "data": {
      "text/plain": [
       "<matplotlib.axes._subplots.AxesSubplot at 0x1a1dbf5f28>"
      ]
     },
     "execution_count": 4,
     "metadata": {},
     "output_type": "execute_result"
    },
    {
     "data": {
      "image/png": "[encoded data removed]",
      "text/plain": [
       "<Figure size 432x288 with 1 Axes>"
      ]
     },
     "metadata": {
      "needs_background": "light"
     },
     "output_type": "display_data"
    }
   ],
   "source": [
    "sns.countplot(x='airline', data=df)"
   ]
  },
  {
   "cell_type": "code",
   "execution_count": 5,
   "metadata": {},
   "outputs": [
    {
     "data": {
      "text/plain": [
       "<matplotlib.axes._subplots.AxesSubplot at 0x1a1df30240>"
      ]
     },
     "execution_count": 5,
     "metadata": {},
     "output_type": "execute_result"
    },
    {
     "data": {
      "image/png": "[encoded data removed]",
      "text/plain": [
       "<Figure size 432x288 with 1 Axes>"
      ]
     },
     "metadata": {
      "needs_background": "light"
     },
     "output_type": "display_data"
    }
   ],
   "source": [
    "sns.countplot(x='airline_sentiment', data=df)"
   ]
  },
  {
   "cell_type": "code",
   "execution_count": 6,
   "metadata": {},
   "outputs": [
    {
     "data": {
      "text/plain": [
       "<matplotlib.axes._subplots.AxesSubplot at 0x10aeea748>"
      ]
     },
     "execution_count": 6,
     "metadata": {},
     "output_type": "execute_result"
    },
    {
     "data": {
      "image/png": "[encoded data removed]",
      "text/plain": [
       "<Figure size 432x288 with 1 Axes>"
      ]
     },
     "metadata": {
      "needs_background": "light"
     },
     "output_type": "display_data"
    }
   ],
   "source": [
    "sns.countplot(x='sentiment_category', data=df)"
   ]
  },
  {
   "cell_type": "code",
   "execution_count": 7,
   "metadata": {},
   "outputs": [
    {
     "data": {
      "text/plain": [
       "<matplotlib.axes._subplots.AxesSubplot at 0x1a1f298cf8>"
      ]
     },
     "execution_count": 7,
     "metadata": {},
     "output_type": "execute_result"
    },
    {
     "data": {
      "image/png": "[encoded data removed]",
      "text/plain": [
       "<Figure size 432x288 with 1 Axes>"
      ]
     },
     "metadata": {
      "needs_background": "light"
     },
     "output_type": "display_data"
    }
   ],
   "source": [
    "sns.countplot(x='negativereason', data=df)"
   ]
  },
  {
   "cell_type": "code",
   "execution_count": 8,
   "metadata": {},
   "outputs": [
    {
     "data": {
      "text/plain": [
       "array([nan, 'Bad Flight', \"Can't Tell\", 'Late Flight',\n",
       "       'Customer Service Issue', 'Flight Booking Problems',\n",
       "       'Lost Luggage', 'Flight Attendant Complaints', 'Cancelled Flight',\n",
       "       'Damaged Luggage', 'longlines'], dtype=object)"
      ]
     },
     "execution_count": 8,
     "metadata": {},
     "output_type": "execute_result"
    }
   ],
   "source": [
    "#List unique values in the df['name'] column\n",
    "df.negativereason.unique()"
   ]
  },
  {
   "cell_type": "code",
   "execution_count": 9,
   "metadata": {},
   "outputs": [
    {
     "data": {
      "text/plain": [
       "9178"
      ]
     },
     "execution_count": 9,
     "metadata": {},
     "output_type": "execute_result"
    }
   ],
   "source": [
    "df.negativereason.count()"
   ]
  },
  {
   "cell_type": "code",
   "execution_count": 10,
   "metadata": {},
   "outputs": [],
   "source": [
    "df_neg = df.groupby('negativereason').count()"
   ]
  },
  {
   "cell_type": "code",
   "execution_count": 11,
   "metadata": {},
   "outputs": [
    {
     "data": {
      "text/html": [
       "<div>\n",
       "<style scoped>\n",
       "    .dataframe tbody tr th:only-of-type {\n",
       "        vertical-align: middle;\n",
       "    }\n",
       "\n",
       "    .dataframe tbody tr th {\n",
       "        vertical-align: top;\n",
       "    }\n",
       "\n",
       "    .dataframe thead th {\n",
       "        text-align: right;\n",
       "    }\n",
       "</style>\n",
       "<table border=\"1\" class=\"dataframe\">\n",
       "  <thead>\n",
       "    <tr style=\"text-align: right;\">\n",
       "      <th></th>\n",
       "      <th>Unnamed: 0</th>\n",
       "      <th>airline_sentiment</th>\n",
       "      <th>airline_sentiment_confidence</th>\n",
       "      <th>airline</th>\n",
       "      <th>text</th>\n",
       "      <th>tweet_created</th>\n",
       "      <th>user_timezone</th>\n",
       "      <th>review_sentiment</th>\n",
       "      <th>sentiment_category</th>\n",
       "    </tr>\n",
       "    <tr>\n",
       "      <th>negativereason</th>\n",
       "      <th></th>\n",
       "      <th></th>\n",
       "      <th></th>\n",
       "      <th></th>\n",
       "      <th></th>\n",
       "      <th></th>\n",
       "      <th></th>\n",
       "      <th></th>\n",
       "      <th></th>\n",
       "    </tr>\n",
       "  </thead>\n",
       "  <tbody>\n",
       "    <tr>\n",
       "      <th>Bad Flight</th>\n",
       "      <td>580</td>\n",
       "      <td>580</td>\n",
       "      <td>580</td>\n",
       "      <td>580</td>\n",
       "      <td>580</td>\n",
       "      <td>580</td>\n",
       "      <td>380</td>\n",
       "      <td>580</td>\n",
       "      <td>580</td>\n",
       "    </tr>\n",
       "    <tr>\n",
       "      <th>Can't Tell</th>\n",
       "      <td>1190</td>\n",
       "      <td>1190</td>\n",
       "      <td>1190</td>\n",
       "      <td>1190</td>\n",
       "      <td>1190</td>\n",
       "      <td>1190</td>\n",
       "      <td>779</td>\n",
       "      <td>1190</td>\n",
       "      <td>1190</td>\n",
       "    </tr>\n",
       "    <tr>\n",
       "      <th>Cancelled Flight</th>\n",
       "      <td>847</td>\n",
       "      <td>847</td>\n",
       "      <td>847</td>\n",
       "      <td>847</td>\n",
       "      <td>847</td>\n",
       "      <td>847</td>\n",
       "      <td>552</td>\n",
       "      <td>847</td>\n",
       "      <td>847</td>\n",
       "    </tr>\n",
       "    <tr>\n",
       "      <th>Customer Service Issue</th>\n",
       "      <td>2910</td>\n",
       "      <td>2910</td>\n",
       "      <td>2910</td>\n",
       "      <td>2910</td>\n",
       "      <td>2910</td>\n",
       "      <td>2910</td>\n",
       "      <td>1905</td>\n",
       "      <td>2910</td>\n",
       "      <td>2910</td>\n",
       "    </tr>\n",
       "    <tr>\n",
       "      <th>Damaged Luggage</th>\n",
       "      <td>74</td>\n",
       "      <td>74</td>\n",
       "      <td>74</td>\n",
       "      <td>74</td>\n",
       "      <td>74</td>\n",
       "      <td>74</td>\n",
       "      <td>53</td>\n",
       "      <td>74</td>\n",
       "      <td>74</td>\n",
       "    </tr>\n",
       "    <tr>\n",
       "      <th>Flight Attendant Complaints</th>\n",
       "      <td>481</td>\n",
       "      <td>481</td>\n",
       "      <td>481</td>\n",
       "      <td>481</td>\n",
       "      <td>481</td>\n",
       "      <td>481</td>\n",
       "      <td>321</td>\n",
       "      <td>481</td>\n",
       "      <td>481</td>\n",
       "    </tr>\n",
       "    <tr>\n",
       "      <th>Flight Booking Problems</th>\n",
       "      <td>529</td>\n",
       "      <td>529</td>\n",
       "      <td>529</td>\n",
       "      <td>529</td>\n",
       "      <td>529</td>\n",
       "      <td>529</td>\n",
       "      <td>349</td>\n",
       "      <td>529</td>\n",
       "      <td>529</td>\n",
       "    </tr>\n",
       "    <tr>\n",
       "      <th>Late Flight</th>\n",
       "      <td>1665</td>\n",
       "      <td>1665</td>\n",
       "      <td>1665</td>\n",
       "      <td>1665</td>\n",
       "      <td>1665</td>\n",
       "      <td>1665</td>\n",
       "      <td>1074</td>\n",
       "      <td>1665</td>\n",
       "      <td>1665</td>\n",
       "    </tr>\n",
       "    <tr>\n",
       "      <th>Lost Luggage</th>\n",
       "      <td>724</td>\n",
       "      <td>724</td>\n",
       "      <td>724</td>\n",
       "      <td>724</td>\n",
       "      <td>724</td>\n",
       "      <td>724</td>\n",
       "      <td>468</td>\n",
       "      <td>724</td>\n",
       "      <td>724</td>\n",
       "    </tr>\n",
       "    <tr>\n",
       "      <th>longlines</th>\n",
       "      <td>178</td>\n",
       "      <td>178</td>\n",
       "      <td>178</td>\n",
       "      <td>178</td>\n",
       "      <td>178</td>\n",
       "      <td>178</td>\n",
       "      <td>127</td>\n",
       "      <td>178</td>\n",
       "      <td>178</td>\n",
       "    </tr>\n",
       "  </tbody>\n",
       "</table>\n",
       "</div>"
      ],
      "text/plain": [
       "                             Unnamed: 0  airline_sentiment  \\\n",
       "negativereason                                               \n",
       "Bad Flight                          580                580   \n",
       "Can't Tell                         1190               1190   \n",
       "Cancelled Flight                    847                847   \n",
       "Customer Service Issue             2910               2910   \n",
       "Damaged Luggage                      74                 74   \n",
       "Flight Attendant Complaints         481                481   \n",
       "Flight Booking Problems             529                529   \n",
       "Late Flight                        1665               1665   \n",
       "Lost Luggage                        724                724   \n",
       "longlines                           178                178   \n",
       "\n",
       "                             airline_sentiment_confidence  airline  text  \\\n",
       "negativereason                                                             \n",
       "Bad Flight                                            580      580   580   \n",
       "Can't Tell                                           1190     1190  1190   \n",
       "Cancelled Flight                                      847      847   847   \n",
       "Customer Service Issue                               2910     2910  2910   \n",
       "Damaged Luggage                                        74       74    74   \n",
       "Flight Attendant Complaints                           481      481   481   \n",
       "Flight Booking Problems                               529      529   529   \n",
       "Late Flight                                          1665     1665  1665   \n",
       "Lost Luggage                                          724      724   724   \n",
       "longlines                                             178      178   178   \n",
       "\n",
       "                             tweet_created  user_timezone  review_sentiment  \\\n",
       "negativereason                                                                \n",
       "Bad Flight                             580            380               580   \n",
       "Can't Tell                            1190            779              1190   \n",
       "Cancelled Flight                       847            552               847   \n",
       "Customer Service Issue                2910           1905              2910   \n",
       "Damaged Luggage                         74             53                74   \n",
       "Flight Attendant Complaints            481            321               481   \n",
       "Flight Booking Problems                529            349               529   \n",
       "Late Flight                           1665           1074              1665   \n",
       "Lost Luggage                           724            468               724   \n",
       "longlines                              178            127               178   \n",
       "\n",
       "                             sentiment_category  \n",
       "negativereason                                   \n",
       "Bad Flight                                  580  \n",
       "Can't Tell                                 1190  \n",
       "Cancelled Flight                            847  \n",
       "Customer Service Issue                     2910  \n",
       "Damaged Luggage                              74  \n",
       "Flight Attendant Complaints                 481  \n",
       "Flight Booking Problems                     529  \n",
       "Late Flight                                1665  \n",
       "Lost Luggage                                724  \n",
       "longlines                                   178  "
      ]
     },
     "execution_count": 11,
     "metadata": {},
     "output_type": "execute_result"
    }
   ],
   "source": [
    "df_neg"
   ]
  },
  {
   "cell_type": "markdown",
   "metadata": {},
   "source": [
    "seem like the most reason to complin is \"Customer Service Issue\", \"Late Flight\", \"Can'tell\", and \"Cancelled Flight\""
   ]
  },
  {
   "cell_type": "markdown",
   "metadata": {},
   "source": [
    "when tweets are positive, what are travelers happy with? "
   ]
  },
  {
   "cell_type": "code",
   "execution_count": 12,
   "metadata": {},
   "outputs": [],
   "source": [
    "df_neg.to_csv('airlinenegative.csv')"
   ]
  },
  {
   "cell_type": "code",
   "execution_count": null,
   "metadata": {},
   "outputs": [],
   "source": []
  }
 ],
 "metadata": {
  "kernelspec": {
   "display_name": "Python 3",
   "language": "python",
   "name": "python3"
  },
  "language_info": {
   "codemirror_mode": {
    "name": "ipython",
    "version": 3
   },
   "file_extension": ".py",
   "mimetype": "text/x-python",
   "name": "python",
   "nbconvert_exporter": "python",
   "pygments_lexer": "ipython3",
   "version": "3.7.1"
  }
 },
 "nbformat": 4,
 "nbformat_minor": 2
}
